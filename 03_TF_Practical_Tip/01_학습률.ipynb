{
 "cells": [
  {
   "cell_type": "code",
   "execution_count": null,
   "metadata": {},
   "outputs": [],
   "source": [
    "\"\"\"학습률(learning_rate)\"\"\"\n",
    "# 학습률이 너무 높아도 학습률이 너무 낮아도 가장 작은 cost로 갈수가 없음\n",
    "# 높으면 최저점을 가기전에 바깥으로 튀고, 낮으면 아직 최저점에 도달하지 못함\n",
    "# 전처리로 정규화(normalization)를 한다\n",
    "\n",
    "\"\"\"오버피팅(Overfitting)\"\"\"\n",
    "# 많은 데이터를 모으거나 특징을 줄인다\n",
    "# 일반화(Regularization) 시킴 구부리지 말고  선이 될수 있게 cost + l2regular\n",
    "\n",
    "\"\"\"모델이 얼마나 잘동작하는지 확인하는 방법\"\"\"\n",
    "# 데이터 셋 중  트레이닝셋 70%, 테스트셋 30%\n",
    "# 트레이닝 셋 중  Training셋 80%, Validation셋 20%\n",
    "# 교과서를 가지고 공부한다음 모의고사 몇번보고, 그다음 시험\n",
    "\n",
    "\"\"\"온라인 러닝\"\"\"\n",
    "# 100만개를 10만개씩 잘라서 학습"
   ]
  },
  {
   "cell_type": "code",
   "execution_count": 14,
   "metadata": {},
   "outputs": [
    {
     "name": "stdout",
     "output_type": "stream",
     "text": [
      "Step: 00000   Cost: 0.886   Prediction:  [0 0 2]   Accuracy:  0.33333334\n"
     ]
    },
    {
     "name": "stdout",
     "output_type": "stream",
     "text": [
      "Step: 01000   Cost: 2.186   Prediction:  [0 0 0]   Accuracy:  0.0\n"
     ]
    },
    {
     "name": "stdout",
     "output_type": "stream",
     "text": [
      "Step: 02000   Cost: 1.619   Prediction:  [0 0 0]   Accuracy:  0.0\n"
     ]
    },
    {
     "name": "stdout",
     "output_type": "stream",
     "text": [
      "Step: 03000   Cost: 1.174   Prediction:  [2 1 1]   Accuracy:  0.33333334\n"
     ]
    },
    {
     "name": "stdout",
     "output_type": "stream",
     "text": [
      "Step: 04000   Cost: 0.840   Prediction:  [2 2 1]   Accuracy:  0.6666667\n"
     ]
    },
    {
     "name": "stdout",
     "output_type": "stream",
     "text": [
      "Step: 05000   Cost: 0.599   Prediction:  [2 2 2]   Accuracy:  1.0\n"
     ]
    },
    {
     "name": "stdout",
     "output_type": "stream",
     "text": [
      "Step: 06000   Cost: 0.430   Prediction:  [2 2 2]   Accuracy:  1.0\n"
     ]
    },
    {
     "name": "stdout",
     "output_type": "stream",
     "text": [
      "Step: 07000   Cost: 0.312   Prediction:  [2 2 2]   Accuracy:  1.0\n"
     ]
    },
    {
     "name": "stdout",
     "output_type": "stream",
     "text": [
      "Step: 08000   Cost: 0.231   Prediction:  [2 2 2]   Accuracy:  1.0\n"
     ]
    },
    {
     "name": "stdout",
     "output_type": "stream",
     "text": [
      "Step: 09000   Cost: 0.174   Prediction:  [2 2 2]   Accuracy:  1.0\n"
     ]
    },
    {
     "name": "stdout",
     "output_type": "stream",
     "text": [
      "Step: 10000   Cost: 0.134   Prediction:  [2 2 2]   Accuracy:  1.0\n"
     ]
    }
   ],
   "source": [
    "# 데이터셋을 실제 훈련을 위한 데이터와 나중에 이 모델이 얼마나 정확히 작동하는지 보기위해 테스트데이터로 나눔\n",
    "import tensorflow as tf\n",
    "# 데이터들\n",
    "x_data = [[1,2,1], [1,3,2], [1,3,4], [1,5,5,], [1,7,5], [1,2,5], [1,6,6], [1,7,7]]\n",
    "y_data = [[0,0,1], [0,0,1], [0,0,1], [0,1,0], [0,1,0], [0,1,0], [1,0,0], [1,0,0]]\n",
    "x_test = [[2,1,1], [3,1,2], [3,3,4]]\n",
    "y_test = [[0,0,1], [0,0,1], [0,0,1]]\n",
    "\n",
    "X = tf.placeholder(tf.float32, [None,3])\n",
    "Y = tf.placeholder(tf.float32, [None,3])\n",
    "W = tf.Variable(tf.random_normal([3,3]))\n",
    "b = tf.Variable(tf.random_normal([3]))\n",
    "\n",
    "hypothesis = tf.nn.softmax(tf.matmul(X, W) + b)\n",
    "cost = tf.reduce_mean(-tf.reduce_sum(Y * tf.log(hypothesis), axis=1))\n",
    "optimizer = tf.train.GradientDescentOptimizer(learning_rate=0.001).minimize(cost)\n",
    "\n",
    "prediction = tf.argmax(hypothesis, 1)\n",
    "is_correct = tf.equal(prediction, tf.argmax(Y, 1))\n",
    "accuracy = tf.reduce_mean(tf.cast(is_correct, tf.float32))\n",
    "\n",
    "with tf.Session() as sess:\n",
    "    sess.run(tf.global_variables_initializer())   \n",
    "    for step in range(10001):\n",
    "        sess.run(optimizer, feed_dict={X: x_data, Y: y_data})\n",
    "        if step % 1000 == 0:\n",
    "            cost_val = sess.run(cost, feed_dict={X: x_test, Y: y_test})\n",
    "            print(\"Step:\", '%05d'%(step), \"  Cost:\", '%.3f'%(cost_val), \n",
    "                  \"  Prediction: \", sess.run(prediction, feed_dict={X: x_test}),\n",
    "                  \"  Accuracy: \", sess.run(accuracy, feed_dict={X: x_test, Y: y_test}))"
   ]
  },
  {
   "cell_type": "code",
   "execution_count": null,
   "metadata": {},
   "outputs": [],
   "source": []
  }
 ],
 "metadata": {
  "kernelspec": {
   "display_name": "Python 3",
   "language": "python",
   "name": "python3"
  },
  "language_info": {
   "codemirror_mode": {
    "name": "ipython",
    "version": 3
   },
   "file_extension": ".py",
   "mimetype": "text/x-python",
   "name": "python",
   "nbconvert_exporter": "python",
   "pygments_lexer": "ipython3",
   "version": "3.6.7"
  },
  "widgets": {
   "application/vnd.jupyter.widget-state+json": {
    "state": {},
    "version_major": 2.0,
    "version_minor": 0.0
   }
  }
 },
 "nbformat": 4,
 "nbformat_minor": 2
}
