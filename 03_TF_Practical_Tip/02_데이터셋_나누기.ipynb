{
 "cells": [
  {
   "cell_type": "code",
   "execution_count": 9,
   "metadata": {
    "collapsed": true,
    "scrolled": true
   },
   "outputs": [
    {
     "name": "stdout",
     "output_type": "stream",
     "text": [
      "Step: 00000    Cost: 3.766    Acc: 0.25\nStep: 00100    Cost: 0.663    Acc: 0.75\nStep: 00200    Cost: 0.576    Acc: 0.75\n"
     ]
    },
    {
     "name": "stdout",
     "output_type": "stream",
     "text": [
      "Step: 00300    Cost: 0.524    Acc: 0.88\nStep: 00400    Cost: 0.486    Acc: 0.88\nStep: 00500    Cost: 0.456    Acc: 1.00\n"
     ]
    },
    {
     "name": "stdout",
     "output_type": "stream",
     "text": [
      "Step: 00600    Cost: 0.431    Acc: 1.00\nStep: 00700    Cost: 0.410    Acc: 1.00\nStep: 00800    Cost: 0.392    Acc: 1.00\n"
     ]
    },
    {
     "name": "stdout",
     "output_type": "stream",
     "text": [
      "Step: 00900    Cost: 0.376    Acc: 1.00\nStep: 01000    Cost: 0.361    Acc: 1.00\nStep: 01100    Cost: 0.348    Acc: 1.00\n"
     ]
    },
    {
     "name": "stdout",
     "output_type": "stream",
     "text": [
      "Step: 01200    Cost: 0.337    Acc: 1.00\nStep: 01300    Cost: 0.326    Acc: 1.00\nStep: 01400    Cost: 0.316    Acc: 1.00\n"
     ]
    },
    {
     "name": "stdout",
     "output_type": "stream",
     "text": [
      "Step: 01500    Cost: 0.307    Acc: 1.00\nStep: 01600    Cost: 0.299    Acc: 1.00\nStep: 01700    Cost: 0.291    Acc: 1.00\n"
     ]
    },
    {
     "name": "stdout",
     "output_type": "stream",
     "text": [
      "Step: 01800    Cost: 0.284    Acc: 1.00\nStep: 01900    Cost: 0.277    Acc: 1.00\nStep: 02000    Cost: 0.270    Acc: 1.00\n"
     ]
    }
   ],
   "source": [
    "#데이터셋을 실제 훈련을 위한 데이터와 나중에 이 모델이 얼마나 정확히 작동하는지 보기위해 테스트데이터로 나눔\n",
    "\n",
    "import tensorflow as tf\n",
    "\n",
    "#데이터들\n",
    "x_data = [[1,2,1], [1,3,2], [1,3,4], [1,5,5,], [1,7,5], [1,2,5], [1,6,6], [1,7,7]]\n",
    "y_data = [[0,0,1], [0,0,1], [0,0,1], [0,1,0], [0,1,0], [0,1,0], [1,0,0], [1,0,0]]\n",
    "x_test = [[2,1,1], [3,1,2], [3,3,4]]\n",
    "y_test = [[0,0,1], [0,0,1], [0,0,1]]\n",
    " \n",
    "X = tf.placeholder(\"float\", [None, 3])\n",
    "Y = tf.placeholder(\"float\", [None, 3])\n",
    "W = tf.Variable(tf.random_normal([3, 3]), name='Weight')\n",
    "b = tf.Variable(tf.random_normal([3]), name='bias')\n",
    "\n",
    "#그래프 생성\n",
    "hypothesis = tf.nn.softmax(tf.matmul(X, W) + b)\n",
    "cost = tf.reduce_mean(-tf.reduce_sum(Y * tf.log(hypothesis), axis=1))\n",
    "optimizer = tf.train.GradientDescentOptimizer(learning_rate=0.1).minimize(cost)\n",
    "\n",
    "prediction = tf.argmax(hypothesis, 1)\n",
    "is_correct = tf.equal(prediction, tf.argmax(Y, 1))\n",
    "accuracy = tf.reduce_mean(tf.cast(is_correct, tf.float32))\n",
    "\n",
    "#그래프 실행                      \n",
    "with tf.Session() as sess:\n",
    "    sess.run(tf.global_variables_initializer())\n",
    "    \n",
    "    for step in range(2001):\n",
    "        sess.run(optimizer, feed_dict={X: x_data, Y: y_data})\n",
    "        \n",
    "        if step % 100 == 0:\n",
    "            c, acc = sess.run([cost, accuracy], feed_dict={X: x_data, Y: y_data})\n",
    "            print('Step:', '%05d'%(step), '   Cost:', '%.3f'%(c), '   Acc:','%.2f'%(acc))\n",
    "\n",
    "    #print(step, sess.run(cost, feed_dict={X: x_data, Y: y_data}))\n",
    "    #pred = sess.run(prediction, feed_dict={X: x_data})\n",
    "    #for p, y in zip(pred, y_data.flatten()):\n",
    "        #print(\"[{}] Prediction: {} Y: {}\".format(p == int(y), p, y))"
   ]
  },
  {
   "cell_type": "code",
   "execution_count": 2,
   "metadata": {},
   "outputs": [],
   "source": []
  }
 ],
 "metadata": {
  "kernelspec": {
   "display_name": "Python 3",
   "language": "python",
   "name": "python3"
  },
  "language_info": {
   "codemirror_mode": {
    "name": "ipython",
    "version": 3
   },
   "file_extension": ".py",
   "mimetype": "text/x-python",
   "name": "python",
   "nbconvert_exporter": "python",
   "pygments_lexer": "ipython3",
   "version": "3.6.7"
  }
 },
 "nbformat": 4,
 "nbformat_minor": 2
}
