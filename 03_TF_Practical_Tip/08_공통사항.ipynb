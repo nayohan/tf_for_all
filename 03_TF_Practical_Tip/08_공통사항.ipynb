{
 "cells": [
  {
   "cell_type": "code",
   "execution_count": null,
   "metadata": {},
   "outputs": [],
   "source": [
    "import tensorflow as tf\n",
    "\n",
    "from tensorflow.examples.tutorials.mnist import input_data\n",
    "mnist = input_data.read_data_sets(\"./mnist/data/\",  one_hot=True)\n",
    "\n",
    "X = tf.placeholder(tf.float32,[])\n",
    "Y = tf.plachholder(tf.float32,[])\n",
    "W = tf.Variable(tf.random_normal([]))\n",
    "b = tf.Variable(tf.random_normal([]))\n",
    "\n",
    "model = \n",
    "\n",
    "cost =   tf.reduce_mean(tf.nn.softmax_cross_entropy_with_logits_v2(logits=model, labels=Y))                        \n",
    "optimizer = tf.train.AdamOptimizer(learning_rate=   ).minimize(cost) \n",
    "\n",
    "is_correct = tf.equal(tf.argmax(hypothesis, 1), tf.argmax(Y, 1))\n",
    "accuracy = tf.reduce_mean(tf.cast(is_correct, tf.float32))\n",
    "\n",
    "training_epoch =\n",
    "batch_size =\n",
    "\n",
    "with tf.Session() as sess:\n",
    "    sess.run(tf.global_variables_initializer())\n",
    "    \n",
    "    for epoch in range(training_epoch):\n",
    "        avg_cost = 0    #\n",
    "        total_batch =  int(mnist.train.num_examples / batch_size)   #\n",
    "        for i in range(total_batch):\n",
    "            batch_xs, batch_ys = mnist.train.next_batch(batch_size)    #\n",
    "            c, _ = sess.run([cost, optimizer], feed_dict={})\n",
    "            avg_cost += c / total_batch     #\n",
    "            \n",
    "        print('Epoch:', '%03d '%(epoch + 1),' Cost:', '%.4f'%(avg_cost), ' Acc:', \n",
    "              sess.run(accuracy, feed_dict={X:mnist.test.images, Y:mnist.test.labels}))    \n",
    "            \n",
    "        "
   ]
  }
 ],
 "metadata": {
  "kernelspec": {
   "display_name": "Python 3",
   "language": "python",
   "name": "python3"
  },
  "language_info": {
   "codemirror_mode": {
    "name": "ipython",
    "version": 3
   },
   "file_extension": ".py",
   "mimetype": "text/x-python",
   "name": "python",
   "nbconvert_exporter": "python",
   "pygments_lexer": "ipython3",
   "version": "3.6.7"
  }
 },
 "nbformat": 4,
 "nbformat_minor": 2
}
