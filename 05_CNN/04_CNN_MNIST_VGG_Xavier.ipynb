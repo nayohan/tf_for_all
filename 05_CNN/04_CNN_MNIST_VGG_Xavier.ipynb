{
 "cells": [
  {
   "cell_type": "code",
   "execution_count": 1,
   "metadata": {
    "collapsed": false
   },
   "outputs": [
    {
     "name": "stdout",
     "output_type": "stream",
     "text": [
      "WARNING:tensorflow:From <ipython-input-1-96d5166d5694>:6: read_data_sets (from tensorflow.contrib.learn.python.learn.datasets.mnist) is deprecated and will be removed in a future version.\nInstructions for updating:\nPlease use alternatives such as official/mnist/dataset.py from tensorflow/models.\n"
     ]
    },
    {
     "name": "stdout",
     "output_type": "stream",
     "text": [
      "WARNING:tensorflow:From /usr/local/lib/python3.6/dist-packages/tensorflow/contrib/learn/python/learn/datasets/mnist.py:260: maybe_download (from tensorflow.contrib.learn.python.learn.datasets.base) is deprecated and will be removed in a future version.\nInstructions for updating:\nPlease write your own downloading logic.\n"
     ]
    },
    {
     "name": "stdout",
     "output_type": "stream",
     "text": [
      "WARNING:tensorflow:From /usr/local/lib/python3.6/dist-packages/tensorflow/contrib/learn/python/learn/datasets/mnist.py:262: extract_images (from tensorflow.contrib.learn.python.learn.datasets.mnist) is deprecated and will be removed in a future version.\nInstructions for updating:\nPlease use tf.data to implement this functionality.\n"
     ]
    },
    {
     "name": "stdout",
     "output_type": "stream",
     "text": [
      "Extracting ./mnist/data/train-images-idx3-ubyte.gz\n"
     ]
    },
    {
     "name": "stdout",
     "output_type": "stream",
     "text": [
      "WARNING:tensorflow:From /usr/local/lib/python3.6/dist-packages/tensorflow/contrib/learn/python/learn/datasets/mnist.py:267: extract_labels (from tensorflow.contrib.learn.python.learn.datasets.mnist) is deprecated and will be removed in a future version.\nInstructions for updating:\nPlease use tf.data to implement this functionality.\n"
     ]
    },
    {
     "name": "stdout",
     "output_type": "stream",
     "text": [
      "Extracting ./mnist/data/train-labels-idx1-ubyte.gz\nWARNING:tensorflow:From /usr/local/lib/python3.6/dist-packages/tensorflow/contrib/learn/python/learn/datasets/mnist.py:110: dense_to_one_hot (from tensorflow.contrib.learn.python.learn.datasets.mnist) is deprecated and will be removed in a future version.\nInstructions for updating:\nPlease use tf.one_hot on tensors.\n"
     ]
    },
    {
     "name": "stdout",
     "output_type": "stream",
     "text": [
      "Extracting ./mnist/data/t10k-images-idx3-ubyte.gz\nExtracting ./mnist/data/t10k-labels-idx1-ubyte.gz\nWARNING:tensorflow:From /usr/local/lib/python3.6/dist-packages/tensorflow/contrib/learn/python/learn/datasets/mnist.py:290: DataSet.__init__ (from tensorflow.contrib.learn.python.learn.datasets.mnist) is deprecated and will be removed in a future version.\nInstructions for updating:\nPlease use alternatives such as official/mnist/dataset.py from tensorflow/models.\n"
     ]
    },
    {
     "name": "stdout",
     "output_type": "stream",
     "text": [
      "Step: 550   Cost: 1.8965  Acc: 0.79\n"
     ]
    },
    {
     "name": "stdout",
     "output_type": "stream",
     "text": [
      "Step: 1100   Cost: 1.1531  Acc: 0.888\n"
     ]
    },
    {
     "name": "stdout",
     "output_type": "stream",
     "text": [
      "Step: 1650   Cost: 0.9251  Acc: 0.904\n"
     ]
    },
    {
     "name": "stdout",
     "output_type": "stream",
     "text": [
      "Step: 2200   Cost: 0.8284  Acc: 0.925\n"
     ]
    },
    {
     "name": "stdout",
     "output_type": "stream",
     "text": [
      "Step: 2750   Cost: 0.7642  Acc: 0.934\n"
     ]
    },
    {
     "name": "stdout",
     "output_type": "stream",
     "text": [
      "Step: 3300   Cost: 0.7193  Acc: 0.944\n"
     ]
    },
    {
     "name": "stdout",
     "output_type": "stream",
     "text": [
      "Step: 3850   Cost: 0.6840  Acc: 0.94\n"
     ]
    },
    {
     "name": "stdout",
     "output_type": "stream",
     "text": [
      "Step: 4400   Cost: 0.6544  Acc: 0.955\n"
     ]
    },
    {
     "name": "stdout",
     "output_type": "stream",
     "text": [
      "Step: 4950   Cost: 0.6300  Acc: 0.942\n"
     ]
    },
    {
     "name": "stdout",
     "output_type": "stream",
     "text": [
      "Step: 5500   Cost: 0.6100  Acc: 0.948\n"
     ]
    },
    {
     "name": "stdout",
     "output_type": "stream",
     "text": [
      "Step: 6050   Cost: 0.5961  Acc: 0.964\n"
     ]
    },
    {
     "name": "stdout",
     "output_type": "stream",
     "text": [
      "Step: 6600   Cost: 0.5812  Acc: 0.97\n"
     ]
    },
    {
     "name": "stdout",
     "output_type": "stream",
     "text": [
      "Step: 7150   Cost: 0.5700  Acc: 0.973\n"
     ]
    },
    {
     "name": "stdout",
     "output_type": "stream",
     "text": [
      "Step: 7700   Cost: 0.5582  Acc: 0.964\n"
     ]
    },
    {
     "name": "stdout",
     "output_type": "stream",
     "text": [
      "Step: 8250   Cost: 0.5551  Acc: 0.952\n"
     ]
    },
    {
     "name": "stdout",
     "output_type": "stream",
     "text": [
      "Step: 8800   Cost: 0.5409  Acc: 0.975\n"
     ]
    },
    {
     "name": "stdout",
     "output_type": "stream",
     "text": [
      "Step: 9350   Cost: 0.5327  Acc: 0.967\n"
     ]
    },
    {
     "name": "stdout",
     "output_type": "stream",
     "text": [
      "Step: 9900   Cost: 0.5240  Acc: 0.977\n"
     ]
    },
    {
     "name": "stdout",
     "output_type": "stream",
     "text": [
      "Step: 10450   Cost: 0.5195  Acc: 0.964\n"
     ]
    },
    {
     "name": "stdout",
     "output_type": "stream",
     "text": [
      "Step: 11000   Cost: 0.5125  Acc: 0.973\n"
     ]
    },
    {
     "name": "stdout",
     "output_type": "stream",
     "text": [
      "Step: 11550   Cost: 0.5111  Acc: 0.971\n"
     ]
    },
    {
     "name": "stdout",
     "output_type": "stream",
     "text": [
      "Step: 12100   Cost: 0.5054  Acc: 0.974\n"
     ]
    },
    {
     "name": "stdout",
     "output_type": "stream",
     "text": [
      "Step: 12650   Cost: 0.5014  Acc: 0.974\n"
     ]
    },
    {
     "name": "stdout",
     "output_type": "stream",
     "text": [
      "Step: 13200   Cost: 0.4991  Acc: 0.977\n"
     ]
    },
    {
     "name": "stdout",
     "output_type": "stream",
     "text": [
      "Step: 13750   Cost: 0.4914  Acc: 0.979\n"
     ]
    },
    {
     "name": "stdout",
     "output_type": "stream",
     "text": [
      "Step: 14300   Cost: 0.4875  Acc: 0.983\n"
     ]
    },
    {
     "name": "stdout",
     "output_type": "stream",
     "text": [
      "Step: 14850   Cost: 0.4864  Acc: 0.981\n"
     ]
    },
    {
     "name": "stdout",
     "output_type": "stream",
     "text": [
      "Step: 15400   Cost: 0.4821  Acc: 0.984\n"
     ]
    },
    {
     "name": "stdout",
     "output_type": "stream",
     "text": [
      "Step: 15950   Cost: 0.4769  Acc: 0.981\n"
     ]
    },
    {
     "name": "stdout",
     "output_type": "stream",
     "text": [
      "Step: 16500   Cost: 0.4736  Acc: 0.973\n"
     ]
    },
    {
     "name": "stdout",
     "output_type": "stream",
     "text": [
      "Step: 17050   Cost: 0.4756  Acc: 0.987\n"
     ]
    },
    {
     "name": "stdout",
     "output_type": "stream",
     "text": [
      "Step: 17600   Cost: 0.4696  Acc: 0.979\n"
     ]
    },
    {
     "name": "stdout",
     "output_type": "stream",
     "text": [
      "Step: 18150   Cost: 0.4658  Acc: 0.981\n"
     ]
    },
    {
     "name": "stdout",
     "output_type": "stream",
     "text": [
      "Step: 18700   Cost: 0.4704  Acc: 0.984\n"
     ]
    },
    {
     "name": "stdout",
     "output_type": "stream",
     "text": [
      "Step: 19250   Cost: 0.4646  Acc: 0.986\n"
     ]
    },
    {
     "name": "stdout",
     "output_type": "stream",
     "text": [
      "Step: 19800   Cost: 0.4625  Acc: 0.985\n"
     ]
    },
    {
     "name": "stdout",
     "output_type": "stream",
     "text": [
      "Step: 20350   Cost: 0.4575  Acc: 0.98\n"
     ]
    },
    {
     "name": "stdout",
     "output_type": "stream",
     "text": [
      "Step: 20900   Cost: 0.4579  Acc: 0.994\n"
     ]
    },
    {
     "name": "stdout",
     "output_type": "stream",
     "text": [
      "Step: 21450   Cost: 0.4611  Acc: 0.977\n"
     ]
    },
    {
     "name": "stdout",
     "output_type": "stream",
     "text": [
      "Step: 22000   Cost: 0.4549  Acc: 0.978\n"
     ]
    },
    {
     "name": "stdout",
     "output_type": "stream",
     "text": [
      "Step: 22550   Cost: 0.4542  Acc: 0.986\n"
     ]
    },
    {
     "name": "stdout",
     "output_type": "stream",
     "text": [
      "Step: 23100   Cost: 0.4491  Acc: 0.987\n"
     ]
    },
    {
     "name": "stdout",
     "output_type": "stream",
     "text": [
      "Step: 23650   Cost: 0.4468  Acc: 0.976\n"
     ]
    },
    {
     "name": "stdout",
     "output_type": "stream",
     "text": [
      "Step: 24200   Cost: 0.4456  Acc: 0.982\n"
     ]
    },
    {
     "name": "stdout",
     "output_type": "stream",
     "text": [
      "Step: 24750   Cost: 0.4450  Acc: 0.986\n"
     ]
    },
    {
     "name": "stdout",
     "output_type": "stream",
     "text": [
      "Step: 25300   Cost: 0.4461  Acc: 0.986\n"
     ]
    },
    {
     "name": "stdout",
     "output_type": "stream",
     "text": [
      "Step: 25850   Cost: 0.4449  Acc: 0.982\n"
     ]
    },
    {
     "name": "stdout",
     "output_type": "stream",
     "text": [
      "Step: 26400   Cost: 0.4441  Acc: 0.99\n"
     ]
    },
    {
     "name": "stdout",
     "output_type": "stream",
     "text": [
      "Step: 26950   Cost: 0.4425  Acc: 0.985\n"
     ]
    },
    {
     "name": "stdout",
     "output_type": "stream",
     "text": [
      "Step: 27500   Cost: 0.4440  Acc: 0.986\n"
     ]
    },
    {
     "name": "stdout",
     "output_type": "stream",
     "text": [
      "Step: 28050   Cost: 0.4399  Acc: 0.98\n"
     ]
    },
    {
     "name": "stdout",
     "output_type": "stream",
     "text": [
      "Step: 28600   Cost: 0.4349  Acc: 0.985\n"
     ]
    },
    {
     "name": "stdout",
     "output_type": "stream",
     "text": [
      "Step: 29150   Cost: 0.4370  Acc: 0.987\n"
     ]
    },
    {
     "name": "stdout",
     "output_type": "stream",
     "text": [
      "Step: 29700   Cost: 0.4354  Acc: 0.987\n"
     ]
    },
    {
     "name": "stdout",
     "output_type": "stream",
     "text": [
      "Step: 30250   Cost: 0.4400  Acc: 0.982\n"
     ]
    },
    {
     "name": "stdout",
     "output_type": "stream",
     "text": [
      "Step: 30800   Cost: 0.4322  Acc: 0.981\n"
     ]
    },
    {
     "name": "stdout",
     "output_type": "stream",
     "text": [
      "Step: 31350   Cost: 0.4314  Acc: 0.985\n"
     ]
    },
    {
     "name": "stdout",
     "output_type": "stream",
     "text": [
      "Step: 31900   Cost: 0.4275  Acc: 0.986\n"
     ]
    },
    {
     "name": "stdout",
     "output_type": "stream",
     "text": [
      "Step: 32450   Cost: 0.4325  Acc: 0.992\n"
     ]
    },
    {
     "name": "stdout",
     "output_type": "stream",
     "text": [
      "Step: 33000   Cost: 0.4279  Acc: 0.994\n"
     ]
    },
    {
     "name": "stdout",
     "output_type": "stream",
     "text": [
      "Step: 33550   Cost: 0.4287  Acc: 0.98\n"
     ]
    },
    {
     "name": "stdout",
     "output_type": "stream",
     "text": [
      "Step: 34100   Cost: 0.4343  Acc: 0.987\n"
     ]
    },
    {
     "name": "stdout",
     "output_type": "stream",
     "text": [
      "Step: 34650   Cost: 0.4245  Acc: 0.984\n"
     ]
    },
    {
     "name": "stdout",
     "output_type": "stream",
     "text": [
      "Step: 35200   Cost: 0.4335  Acc: 0.989\n"
     ]
    },
    {
     "name": "stdout",
     "output_type": "stream",
     "text": [
      "Step: 35750   Cost: 0.4243  Acc: 0.983\n"
     ]
    },
    {
     "name": "stdout",
     "output_type": "stream",
     "text": [
      "Step: 36300   Cost: 0.4255  Acc: 0.994\n"
     ]
    },
    {
     "name": "stdout",
     "output_type": "stream",
     "text": [
      "Step: 36850   Cost: 0.4253  Acc: 0.989\n"
     ]
    },
    {
     "name": "stdout",
     "output_type": "stream",
     "text": [
      "Step: 37400   Cost: 0.4243  Acc: 0.991\n"
     ]
    },
    {
     "name": "stdout",
     "output_type": "stream",
     "text": [
      "Step: 37950   Cost: 0.4214  Acc: 0.991\n"
     ]
    },
    {
     "name": "stdout",
     "output_type": "stream",
     "text": [
      "Step: 38500   Cost: 0.4246  Acc: 0.99\n"
     ]
    },
    {
     "name": "stdout",
     "output_type": "stream",
     "text": [
      "Step: 39050   Cost: 0.4229  Acc: 0.986\n"
     ]
    },
    {
     "name": "stdout",
     "output_type": "stream",
     "text": [
      "Step: 39600   Cost: 0.4212  Acc: 0.991\n"
     ]
    },
    {
     "name": "stdout",
     "output_type": "stream",
     "text": [
      "Step: 40150   Cost: 0.4247  Acc: 0.983\n"
     ]
    },
    {
     "name": "stdout",
     "output_type": "stream",
     "text": [
      "Step: 40700   Cost: 0.4212  Acc: 0.982\n"
     ]
    },
    {
     "name": "stdout",
     "output_type": "stream",
     "text": [
      "Step: 41250   Cost: 0.4133  Acc: 0.986\n"
     ]
    },
    {
     "name": "stdout",
     "output_type": "stream",
     "text": [
      "Step: 41800   Cost: 0.4205  Acc: 0.991\n"
     ]
    },
    {
     "name": "stdout",
     "output_type": "stream",
     "text": [
      "Step: 42350   Cost: 0.4230  Acc: 0.991\n"
     ]
    },
    {
     "name": "stdout",
     "output_type": "stream",
     "text": [
      "Step: 42900   Cost: 0.4167  Acc: 0.989\n"
     ]
    },
    {
     "name": "stdout",
     "output_type": "stream",
     "text": [
      "Step: 43450   Cost: 0.4144  Acc: 0.989\n"
     ]
    },
    {
     "name": "stdout",
     "output_type": "stream",
     "text": [
      "Step: 44000   Cost: 0.4199  Acc: 0.995\n"
     ]
    },
    {
     "name": "stdout",
     "output_type": "stream",
     "text": [
      "Step: 44550   Cost: 0.4185  Acc: 0.988\n"
     ]
    },
    {
     "name": "stdout",
     "output_type": "stream",
     "text": [
      "Step: 45100   Cost: 0.4160  Acc: 0.991\n"
     ]
    },
    {
     "name": "stdout",
     "output_type": "stream",
     "text": [
      "Step: 45650   Cost: 0.4144  Acc: 0.99\n"
     ]
    },
    {
     "name": "stdout",
     "output_type": "stream",
     "text": [
      "Step: 46200   Cost: 0.4167  Acc: 0.987\n"
     ]
    },
    {
     "name": "stdout",
     "output_type": "stream",
     "text": [
      "Step: 46750   Cost: 0.4186  Acc: 0.99\n"
     ]
    },
    {
     "name": "stdout",
     "output_type": "stream",
     "text": [
      "Step: 47300   Cost: 0.4147  Acc: 0.992\n"
     ]
    },
    {
     "name": "stdout",
     "output_type": "stream",
     "text": [
      "Step: 47850   Cost: 0.4091  Acc: 0.989\n"
     ]
    },
    {
     "name": "stdout",
     "output_type": "stream",
     "text": [
      "Step: 48400   Cost: 0.4108  Acc: 0.989\n"
     ]
    },
    {
     "name": "stdout",
     "output_type": "stream",
     "text": [
      "Step: 48950   Cost: 0.4109  Acc: 0.993\n"
     ]
    },
    {
     "name": "stdout",
     "output_type": "stream",
     "text": [
      "Step: 49500   Cost: 0.4142  Acc: 0.987\n"
     ]
    },
    {
     "name": "stdout",
     "output_type": "stream",
     "text": [
      "Step: 50050   Cost: 0.4139  Acc: 0.987\n"
     ]
    },
    {
     "name": "stdout",
     "output_type": "stream",
     "text": [
      "Step: 50600   Cost: 0.4060  Acc: 0.99\n"
     ]
    },
    {
     "name": "stdout",
     "output_type": "stream",
     "text": [
      "Step: 51150   Cost: 0.4086  Acc: 0.994\n"
     ]
    },
    {
     "name": "stdout",
     "output_type": "stream",
     "text": [
      "Step: 51700   Cost: 0.4080  Acc: 0.99\n"
     ]
    },
    {
     "name": "stdout",
     "output_type": "stream",
     "text": [
      "Step: 52250   Cost: 0.4114  Acc: 0.984\n"
     ]
    },
    {
     "name": "stdout",
     "output_type": "stream",
     "text": [
      "Step: 52800   Cost: 0.4046  Acc: 0.987\n"
     ]
    },
    {
     "name": "stdout",
     "output_type": "stream",
     "text": [
      "Step: 53350   Cost: 0.4074  Acc: 0.992\n"
     ]
    },
    {
     "name": "stdout",
     "output_type": "stream",
     "text": [
      "Step: 53900   Cost: 0.4069  Acc: 0.992\n"
     ]
    },
    {
     "name": "stdout",
     "output_type": "stream",
     "text": [
      "Step: 54450   Cost: 0.4051  Acc: 0.99\n"
     ]
    },
    {
     "name": "stdout",
     "output_type": "stream",
     "text": [
      "Step: 55000   Cost: 0.4076  Acc: 0.994\n"
     ]
    },
    {
     "data": {
      "text/plain": [
       "<Figure size 640x480 with 10 Axes>"
      ]
     },
     "execution_count": 0,
     "metadata": {},
     "output_type": "execute_result"
    }
   ],
   "source": [
    "import tensorflow as tf\n",
    "import numpy as np\n",
    "import matplotlib.pyplot as plt\n",
    "plt.interactive(False)\n",
    "from tensorflow.examples.tutorials.mnist import input_data\n",
    "mnist = input_data.read_data_sets(\"./mnist/data/\",  one_hot=True)\n",
    "global_step = tf.Variable(0, trainable=False, name='global_step')\n",
    "\n",
    "#변수들\n",
    "X = tf.placeholder(tf.float32,[None, 28, 28, 1], name='X')          # [?, 28, 28, 1]\n",
    "Y = tf.placeholder(tf.float32,[None, 10], name='Y')                     # [?, 10]\n",
    "keep_prob = tf.placeholder(tf.float32)\n",
    "    \n",
    "\"\"\"모델\"\"\"\n",
    "W1 = tf.get_variable(\"W1\", shape=[3, 3, 1, 16], initializer=tf.contrib.layers.xavier_initializer())   \n",
    "L1 = tf.nn. conv2d(X, W1, strides=[1, 1, 1, 1], padding='SAME', name='L1_conv')  # [?, 28, 28, 16]\n",
    "L1 = tf.nn.relu(L1, name='L1_relu')\n",
    "\n",
    "W2 = tf.get_variable(\"W2\", shape=[3, 3, 16, 32], initializer=tf.contrib.layers.xavier_initializer())   # [3, 3, 16, 16]\n",
    "L2 = tf.nn. conv2d(L1, W2, strides=[1, 1, 1, 1], padding='SAME', name='L2_conv')      # [?, 28, 28, 32]\n",
    "L2 = tf.nn.relu(L2, name='L2_relu')\n",
    "L2 = tf.nn.max_pool(L2, ksize=[1, 2, 2, 1], strides=[1, 2, 2, 1], padding='SAME', name='L2_pool')       # [?,14, 14, 32]\n",
    "\n",
    "W3 = tf.get_variable(\"W3\", shape=[3, 3, 32, 64], initializer=tf.contrib.layers.xavier_initializer())   # [3, 3, 16, 16]\n",
    "L3 = tf.nn. conv2d(L2, W3, strides=[1, 1, 1, 1], padding='SAME', name='L3_conv')  # [?, 14, 14,  64]\n",
    "L3 = tf.nn.relu(L3, name='L3_relu')\n",
    "\n",
    "W4 = tf.get_variable(\"W4\", shape=[3, 3, 64, 64], initializer=tf.contrib.layers.xavier_initializer())   # [3, 3, 16, 16]\n",
    "L4 = tf.nn. conv2d(L3, W4, strides=[1, 1, 1, 1], padding='SAME', name='L4_conv')  # [?, 14, 14,  64]\n",
    "L4 = tf.nn.relu(L3, name='L4_relu')\n",
    "L4 = tf.nn.max_pool(L4, ksize=[1, 2, 2, 1], strides=[1, 2, 2, 1], padding='SAME', name='L4_pool')   # [?, 7, 7,  64]\n",
    "\n",
    "W5 = tf.get_variable(\"W5\", shape=[7 * 7* 64, 256], initializer=tf.contrib.layers.xavier_initializer())   # [3, 3, 16,16]\n",
    "L5 = tf.reshape(L4, [-1, 7 * 7 * 64])\n",
    "L5 = tf. matmul(L5, W5, name='L5_matmul')\n",
    "L5 = tf.nn.relu(L5, name='L5_relu')\n",
    "L5 = tf.nn.dropout(L5, keep_prob, name='L5_dropout')\n",
    "\n",
    "W6 = tf.get_variable(\"W6\", shape=[256, 10], initializer=tf.contrib.layers.xavier_initializer())   # [3, 3, 16, 16]\n",
    "L6 = tf.matmul(L5, W6, name='L6_matmul')\n",
    "\n",
    "model = tf.nn.dropout(L6, keep_prob, name='model')\n",
    "\n",
    "cost =   tf.reduce_mean(tf.nn.softmax_cross_entropy_with_logits_v2(logits=model, labels=Y))                        \n",
    "optimizer = tf.train.AdamOptimizer(learning_rate=0.00001).minimize(cost, global_step=global_step)      \n",
    "\n",
    "#검증을 위한 코드/모니터링\n",
    "is_correct = tf.equal(tf.argmax(model, 1), tf.argmax(Y, 1))\n",
    "accuracy = tf.reduce_mean(tf.cast(is_correct, tf.float32))\n",
    "tf.summary.scalar('cost', cost)                    \n",
    "tf.summary.scalar('accuracy', accuracy)    \n",
    "tf.summary.histogram(\"model\", model)   \n",
    "#tf.summary.image(\"L1\",L1)\n",
    "\n",
    "#파라미터\n",
    "training_epoch = 100\n",
    "batch_size = 100\n",
    "\n",
    "#세션런 \n",
    "with tf.Session() as sess:                                                                                                                   \n",
    "    sess.run(tf.global_variables_initializer())                                                   \n",
    "    merged = tf.summary.merge_all()\n",
    "    writer = tf.summary.FileWriter('./logs/cnn_mnist_vgg_xa', sess.graph)    \n",
    "    \n",
    "    for epoch in range(training_epoch):\n",
    "        avg_cost = 0\n",
    "        total_batch =  int(mnist.train.num_examples / batch_size)   \n",
    "       \n",
    "        for i in range(total_batch):\n",
    "            batch_xs, batch_ys = mnist.train.next_batch(batch_size)\n",
    "            batch_xs = batch_xs.reshape(-1, 28, 28, 1)\n",
    "            c, _ = sess.run([cost, optimizer], feed_dict={X: batch_xs, Y: batch_ys, keep_prob: 0.7})\n",
    "            avg_cost += c / total_batch\n",
    "                            \n",
    "            summary = sess.run(merged, feed_dict={X: batch_xs, Y: batch_ys, keep_prob: 1})\n",
    "            writer.add_summary(summary, global_step=sess.run(global_step))\n",
    "        \n",
    "        #정확도 출력\n",
    "        test_xs, test_ys = mnist.test.next_batch(1000)\n",
    "        test_xs = test_xs.reshape(-1, 28, 28, 1)\n",
    "        print('Step:', '%03d '%sess.run(global_step),' Cost:', '%.4f'%(avg_cost), ' Acc:', \n",
    "              sess.run(accuracy, feed_dict={X:test_xs, Y:test_ys, keep_prob: 1}))\n",
    "        \n",
    "    #그림과 레이블 출력\n",
    "    fig, ax = plt.subplots(1, 10)   \n",
    "    for i in range(10):\n",
    "        ax[i].set_xticks([])\n",
    "        ax[i].set_yticks([])\n",
    "        test_label = sess.run(model, feed_dict={X:[test_xs[i]], Y:[test_ys[i]], keep_prob: 1})\n",
    "        ax[i].set_xlabel(np.argmax(test_label))\n",
    "        ax[i].imshow(test_xs[i].reshape(28,28), cmap='gray')    \n",
    "    plt.show(block=True)"
   ]
  },
  {
   "cell_type": "code",
   "execution_count": null,
   "metadata": {},
   "outputs": [],
   "source": []
  }
 ],
 "metadata": {
  "kernelspec": {
   "display_name": "Python 2",
   "language": "python",
   "name": "python2"
  },
  "language_info": {
   "codemirror_mode": {
    "name": "ipython",
    "version": 2
   },
   "file_extension": ".py",
   "mimetype": "text/x-python",
   "name": "python",
   "nbconvert_exporter": "python",
   "pygments_lexer": "ipython2",
   "version": "2.7.6"
  }
 },
 "nbformat": 4,
 "nbformat_minor": 0
}
